{
 "metadata": {
  "language_info": {
   "codemirror_mode": {
    "name": "ipython",
    "version": 3
   },
   "file_extension": ".py",
   "mimetype": "text/x-python",
   "name": "python",
   "nbconvert_exporter": "python",
   "pygments_lexer": "ipython3",
   "version": "3.9.6"
  },
  "orig_nbformat": 4,
  "kernelspec": {
   "name": "python3",
   "display_name": "Python 3.9.6 64-bit (windows store)"
  },
  "interpreter": {
   "hash": "2754d3a67fdc5c55984a5749a83be3c5e2897f7d86a1fc8f037effd16c6af8ef"
  }
 },
 "nbformat": 4,
 "nbformat_minor": 2,
 "cells": [
  {
   "cell_type": "code",
   "execution_count": 11,
   "metadata": {},
   "outputs": [],
   "source": [
    "class Expr:\n",
    "    pass"
   ]
  },
  {
   "cell_type": "code",
   "execution_count": 12,
   "metadata": {},
   "outputs": [],
   "source": [
    "class Times(Expr): #sub class of expr\n",
    "    def __init__(self,l,r):\n",
    "        self.l = l\n",
    "        self.r = r"
   ]
  },
  {
   "cell_type": "code",
   "execution_count": 13,
   "metadata": {},
   "outputs": [],
   "source": [
    "class Plus(Expr):\n",
    "    def __init__(self,l,r):\n",
    "        self.l = l\n",
    "        self.r = r"
   ]
  },
  {
   "cell_type": "code",
   "execution_count": 20,
   "metadata": {},
   "outputs": [],
   "source": [
    "class Const(Expr):\n",
    "        def __init__(self,val):\n",
    "            self.val= val\n",
    "        def __str__(self):\n",
    "            return str(self.val)    "
   ]
  },
  {
   "cell_type": "code",
   "execution_count": 15,
   "metadata": {},
   "outputs": [],
   "source": [
    "class Var(Expr):\n",
    "    def __init__(self,name):\n",
    "        self.name= name\n",
    "    "
   ]
  },
  {
   "cell_type": "code",
   "execution_count": 17,
   "metadata": {},
   "outputs": [],
   "source": [
    "e1 = Times(Const(3),Plus(Var(\"y\"),Var(\"x\")))\n",
    "e2 = Plus(Times(Const(3),Var(\"y\")),Var(\"x\"))"
   ]
  },
  {
   "cell_type": "code",
   "execution_count": 18,
   "metadata": {},
   "outputs": [
    {
     "output_type": "execute_result",
     "data": {
      "text/plain": [
       "<__main__.Times at 0x1932adea250>"
      ]
     },
     "metadata": {},
     "execution_count": 18
    }
   ],
   "source": [
    "e1"
   ]
  }
 ]
}